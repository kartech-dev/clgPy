{
  "nbformat": 4,
  "nbformat_minor": 0,
  "metadata": {
    "colab": {
      "provenance": [],
      "authorship_tag": "ABX9TyOUU+TAqmjAbY2ytmAfXdb0",
      "include_colab_link": true
    },
    "kernelspec": {
      "name": "python3",
      "display_name": "Python 3"
    },
    "language_info": {
      "name": "python"
    }
  },
  "cells": [
    {
      "cell_type": "markdown",
      "metadata": {
        "id": "view-in-github",
        "colab_type": "text"
      },
      "source": [
        "<a href=\"https://colab.research.google.com/github/kartech-dev/clgPy/blob/main/assign9.ipynb\" target=\"_parent\"><img src=\"https://colab.research.google.com/assets/colab-badge.svg\" alt=\"Open In Colab\"/></a>"
      ]
    },
    {
      "cell_type": "code",
      "execution_count": 2,
      "metadata": {
        "id": "UbOaH4nEhM8u"
      },
      "outputs": [],
      "source": [
        "\n",
        "import numpy\n",
        "numpy.__version__\n",
        "\n",
        "import numpy as np"
      ]
    },
    {
      "cell_type": "code",
      "source": [
        "#Write a program to create a 1D NumPy array of numbers from 1 to 10 and print it.\n",
        "import numpy as np\n",
        "array = np.arange(1, 11)\n",
        "print(array)"
      ],
      "metadata": {
        "colab": {
          "base_uri": "https://localhost:8080/"
        },
        "id": "ucYMZEt5hhqe",
        "outputId": "2a0687a9-282f-44a9-ecdd-7bc8a25de91b"
      },
      "execution_count": 3,
      "outputs": [
        {
          "output_type": "stream",
          "name": "stdout",
          "text": [
            "[ 1  2  3  4  5  6  7  8  9 10]\n"
          ]
        }
      ]
    },
    {
      "cell_type": "code",
      "source": [
        "#Create a 3X3 array of zeros and a 2Ö 4 array of ones. Print both arrays.\n",
        "import numpy as np\n",
        "zeros_array = np.zeros((3, 3))\n",
        "ones_array = np.ones((3,3))\n",
        "print(zeros_array)\n",
        "print(ones_array)\n"
      ],
      "metadata": {
        "colab": {
          "base_uri": "https://localhost:8080/"
        },
        "id": "5TFQruywhl9b",
        "outputId": "af97e1de-852f-479a-ed3c-8a5fe3e70c58"
      },
      "execution_count": null,
      "outputs": [
        {
          "output_type": "stream",
          "name": "stdout",
          "text": [
            "[[0. 0. 0.]\n",
            " [0. 0. 0.]\n",
            " [0. 0. 0.]]\n",
            "[[1. 1. 1.]\n",
            " [1. 1. 1.]\n",
            " [1. 1. 1.]]\n"
          ]
        }
      ]
    },
    {
      "cell_type": "code",
      "source": [
        "#Create a NumPy array containing numbers from 5 to 50 with a step size of 5 and print it.\n",
        "import numpy as np\n",
        "array = np.arange(5, 51, 5)\n",
        "print(array)"
      ],
      "metadata": {
        "id": "WMqK4dVHh5ch"
      },
      "execution_count": null,
      "outputs": []
    },
    {
      "cell_type": "code",
      "source": [
        "#Create an array of numbers 112 and reshape it into a 3Ö 4 matrix and print it.\n",
        "import numpy as np\n",
        "array = np.arange(112).reshape(3, 4)\n",
        "print(array)\n"
      ],
      "metadata": {
        "id": "yQJNZRzYiCbD"
      },
      "execution_count": null,
      "outputs": []
    },
    {
      "cell_type": "code",
      "source": [
        "#Create two array of same size and compute addition, subtraction, multiplication and division of these arrays and print the results.\n",
        "import numpy as np\n",
        "array1 = np.array([1, 2, 3])\n",
        "array2 = np.array([4, 5, 6])\n",
        "addition = array1 + array2\n",
        "subtraction = array1 - array2\n",
        "multiplication = array1 * array2\n",
        "division = array1 / array2\n",
        "print(addition)\n",
        "print(subtraction)\n",
        "print(multiplication)\n",
        "print(division)\n",
        "\n"
      ],
      "metadata": {
        "id": "_QjfJgpyiFiz"
      },
      "execution_count": null,
      "outputs": []
    },
    {
      "cell_type": "code",
      "source": [
        "#Create a 1D array from 10 to 100 with step 10, and print: First three elements, Last three elements, Every second element\n",
        "import numpy as np\n",
        "array = np.arange(10, 101, 10)\n",
        "print(array[:3])\n",
        "print(array[-3:])\n",
        "print(array[::2])"
      ],
      "metadata": {
        "colab": {
          "base_uri": "https://localhost:8080/"
        },
        "id": "FS6T57BmiN6T",
        "outputId": "07fa99dd-4c56-48c2-99bc-27ffc8fd1f31"
      },
      "execution_count": null,
      "outputs": [
        {
          "output_type": "stream",
          "name": "stdout",
          "text": [
            "[10 20 30]\n",
            "[ 80  90 100]\n",
            "[10 30 50 70 90]\n"
          ]
        }
      ]
    },
    {
      "cell_type": "code",
      "source": [
        "#Create a NumPy array of numbers 120. Extract all elements divisible by 3.\n",
        "import numpy as np\n",
        "array = np.arange(120)\n",
        "divisible_by_3 = array[array % 3 == 0]\n",
        "print(divisible_by_3)"
      ],
      "metadata": {
        "id": "exWM90CmicQP"
      },
      "execution_count": null,
      "outputs": []
    },
    {
      "cell_type": "code",
      "source": [
        "#Given an array of random integers between 1100 (size 10), compute: Mean , Median, Standard deviation.\n",
        "array=np.random.randint(1100,size=10)\n",
        "print(array)\n",
        "mean=np.mean(array)\n",
        "print(mean)\n",
        "median=np.median(array)\n",
        "print(median)\n",
        "std=np.std(array)\n",
        "print(std)"
      ],
      "metadata": {
        "colab": {
          "base_uri": "https://localhost:8080/"
        },
        "id": "Dhfu8qjTikTt",
        "outputId": "e5d82022-94f9-4ea9-a1c5-97aee93ed941"
      },
      "execution_count": 5,
      "outputs": [
        {
          "output_type": "stream",
          "name": "stdout",
          "text": [
            "[ 990  488  919 1054   14 1035  918  141  351    1]\n",
            "591.1\n",
            "703.0\n",
            "416.7681489749427\n"
          ]
        }
      ]
    },
    {
      "cell_type": "code",
      "source": [
        "#Create two 2X3 arrays and stack them vertically and horizontally.\n",
        "array1=np.array([[1,2,3],[4,5,6]])\n",
        "array2=np.array([[7,8,9],[10,11,12]])\n",
        "vertical_stack=np.vstack((array1,array2))\n",
        "horizontal_stack=np.hstack((array1,array2))\n",
        "print(vertical_stack)\n",
        "print(horizontal_stack)\n"
      ],
      "metadata": {
        "colab": {
          "base_uri": "https://localhost:8080/"
        },
        "id": "BvnwUWQpxtCC",
        "outputId": "19cd06ec-641e-426c-f8f4-ad37d8aa73ba"
      },
      "execution_count": 6,
      "outputs": [
        {
          "output_type": "stream",
          "name": "stdout",
          "text": [
            "[[ 1  2  3]\n",
            " [ 4  5  6]\n",
            " [ 7  8  9]\n",
            " [10 11 12]]\n",
            "[[ 1  2  3  7  8  9]\n",
            " [ 4  5  6 10 11 12]]\n"
          ]
        }
      ]
    },
    {
      "cell_type": "code",
      "source": [
        "#Create a 4X4 matrix of random numbers, and subtract the mean of each column from its column value.\n",
        "array=np.random.randint(100,size=(4,4))\n",
        "print(array)\n",
        "mean=np.mean(array,axis=0)\n",
        "print(mean)\n",
        "subtracted_array=array-mean\n",
        "print(subtracted_array)\n"
      ],
      "metadata": {
        "colab": {
          "base_uri": "https://localhost:8080/"
        },
        "id": "6P3sd1C0yIZ1",
        "outputId": "5bf4e389-29cd-49e4-9d1e-3d024b620bf9"
      },
      "execution_count": 7,
      "outputs": [
        {
          "output_type": "stream",
          "name": "stdout",
          "text": [
            "[[22  3 85 46]\n",
            " [22 89 54 27]\n",
            " [85 45 68  2]\n",
            " [29 56  1 47]]\n",
            "[39.5  48.25 52.   30.5 ]\n",
            "[[-17.5  -45.25  33.    15.5 ]\n",
            " [-17.5   40.75   2.    -3.5 ]\n",
            " [ 45.5   -3.25  16.   -28.5 ]\n",
            " [-10.5    7.75 -51.    16.5 ]]\n"
          ]
        }
      ]
    },
    {
      "cell_type": "code",
      "source": [
        "#Create two random matrices A (3X2) and B (2X4). Compute their product using np.dot() and verify the shape of the result.\n",
        "array1=np.random.randint(10,size=(3,2))\n",
        "array2=np.random.randint(10,size=(2,4))\n",
        "product=np.dot(array1,array2)\n",
        "print(product)\n",
        "print(product.shape)\n"
      ],
      "metadata": {
        "colab": {
          "base_uri": "https://localhost:8080/"
        },
        "id": "M0XAccAzyWXR",
        "outputId": "210629aa-7ee1-4ae3-86a4-b7938cb88493"
      },
      "execution_count": 8,
      "outputs": [
        {
          "output_type": "stream",
          "name": "stdout",
          "text": [
            "[[ 8  8  8 22]\n",
            " [36  8 36 71]\n",
            " [32  8 32 64]]\n",
            "(3, 4)\n"
          ]
        }
      ]
    },
    {
      "cell_type": "code",
      "source": [
        "#Solve the following system using np.linalg.solve():2x + y = 5, x y = 1.\n",
        "A=np.array([[2,1],[1,1]])\n",
        "b=np.array([5,1])\n",
        "x=np.linalg.solve(A,b)\n",
        "print(x)\n"
      ],
      "metadata": {
        "colab": {
          "base_uri": "https://localhost:8080/"
        },
        "id": "lJ5vZOimyiKs",
        "outputId": "53f92677-b70b-4c4e-b655-e766438ed2a0"
      },
      "execution_count": 9,
      "outputs": [
        {
          "output_type": "stream",
          "name": "stdout",
          "text": [
            "[ 4. -3.]\n"
          ]
        }
      ]
    },
    {
      "cell_type": "code",
      "source": [
        "#Create a NumPy array of 20 random integers (1100). Replace all elements greater than 50 with 50, and all elements less than 20 with 20. Print the modified array.\n",
        "arr=np.random.randint(1100,size=20)\n",
        "print(\"Original array:\\n\", arr)\n",
        "\n",
        "# Replace elements greater than 50 with 50\n",
        "arr[arr > 50] = 50\n",
        "\n",
        "# Replace elements less than 20 with 20\n",
        "arr[arr < 20] = 20\n",
        "\n",
        "print(\"Modified array:\\n\", arr)"
      ],
      "metadata": {
        "colab": {
          "base_uri": "https://localhost:8080/"
        },
        "id": "7WT3-BNnymz6",
        "outputId": "7a2e0281-a35e-487f-c7e8-74e5c1a78e21"
      },
      "execution_count": 10,
      "outputs": [
        {
          "output_type": "stream",
          "name": "stdout",
          "text": [
            "Original array:\n",
            " [ 339  331  545  476  480  161   58  814  634  624  297   57  440 1094\n",
            "  485  342  153  738  392  415]\n",
            "Modified array:\n",
            " [50 50 50 50 50 50 50 50 50 50 50 50 50 50 50 50 50 50 50 50]\n"
          ]
        }
      ]
    },
    {
      "cell_type": "code",
      "source": [
        "#Create a 6Ö 6 array with values from 1 to 36. Perform the following: Reshape into 6X6 matrix Extract the border elements into a separate array Set all border elements in the original matrix to 0 Print the nal modi ed matrix.\n",
        "array=np.arange(1,37).reshape(6,6)\n",
        "print(array)\n",
        "border_elements=array[0,0],array[0,5],array[5,0],array[5,5]\n",
        "print(border_elements)\n",
        "array[0,:]=0\n",
        "array[5,:]=0\n",
        "array[:,0]=0\n",
        "array[:,5]=0\n",
        "print(array)\n"
      ],
      "metadata": {
        "colab": {
          "base_uri": "https://localhost:8080/"
        },
        "id": "CVfrCi8czaZF",
        "outputId": "8b1d50fb-5ad4-46f3-839e-6e3ac8571e34"
      },
      "execution_count": 11,
      "outputs": [
        {
          "output_type": "stream",
          "name": "stdout",
          "text": [
            "[[ 1  2  3  4  5  6]\n",
            " [ 7  8  9 10 11 12]\n",
            " [13 14 15 16 17 18]\n",
            " [19 20 21 22 23 24]\n",
            " [25 26 27 28 29 30]\n",
            " [31 32 33 34 35 36]]\n",
            "(np.int64(1), np.int64(6), np.int64(31), np.int64(36))\n",
            "[[ 0  0  0  0  0  0]\n",
            " [ 0  8  9 10 11  0]\n",
            " [ 0 14 15 16 17  0]\n",
            " [ 0 20 21 22 23  0]\n",
            " [ 0 26 27 28 29  0]\n",
            " [ 0  0  0  0  0  0]]\n"
          ]
        }
      ]
    },
    {
      "cell_type": "code",
      "source": [
        "#Given two NumPy arrays representing coordinates of points: p1 = np.array([2, 3]) p2 = np.array([10, 8]) Compute the Euclidean distance between them using vectorized NumPy operations.\n"
      ],
      "metadata": {
        "id": "I2LmfaVBznof"
      },
      "execution_count": null,
      "outputs": []
    }
  ]
}